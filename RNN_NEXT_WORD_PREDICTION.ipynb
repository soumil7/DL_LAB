{
 "cells": [
  {
   "cell_type": "code",
   "execution_count": 1,
   "id": "6c3404e9",
   "metadata": {},
   "outputs": [],
   "source": [
    "import tensorflow as tf\n",
    "from tensorflow.keras.models import Sequential\n",
    "from tensorflow.keras.layers import Embedding, LSTM, Dense\n",
    "from tensorflow.keras.preprocessing.text import Tokenizer\n",
    "from tensorflow.keras.preprocessing.sequence import pad_sequences\n",
    "import numpy as np\n",
    "import regex as re"
   ]
  },
  {
   "cell_type": "code",
   "execution_count": 6,
   "id": "e99e01fd",
   "metadata": {},
   "outputs": [],
   "source": [
    "def file_to_sentence_list(file_path):\n",
    "\twith open(file_path, 'r') as file:\n",
    "\t\ttext = file.read()\n",
    "\n",
    "\tsentences = [sentence.strip() for sentence in re.split(\n",
    "\t\tr'(?<=[.!?])\\s+', text) if sentence.strip()]\n",
    "\n",
    "\treturn sentences"
   ]
  },
  {
   "cell_type": "code",
   "execution_count": 7,
   "id": "cf61690f",
   "metadata": {},
   "outputs": [],
   "source": [
    "file_path = 'pizza.txt'"
   ]
  },
  {
   "cell_type": "code",
   "execution_count": 8,
   "id": "4af2ad33",
   "metadata": {},
   "outputs": [],
   "source": [
    "text_data = file_to_sentence_list(file_path)\n",
    "\n",
    "tokenizer = Tokenizer()\n",
    "tokenizer.fit_on_texts(text_data)\n",
    "total_words = len(tokenizer.word_index) + 1\n"
   ]
  },
  {
   "cell_type": "code",
   "execution_count": 9,
   "id": "8e075c95",
   "metadata": {},
   "outputs": [],
   "source": [
    "input_sequences = []\n",
    "for line in text_data:\n",
    "\ttoken_list = tokenizer.texts_to_sequences([line])[0]\n",
    "\tfor i in range(1, len(token_list)):\n",
    "\t\tn_gram_sequence = token_list[:i+1]\n",
    "\t\tinput_sequences.append(n_gram_sequence)\n",
    "\n",
    "max_sequence_len = max([len(seq) for seq in input_sequences])\n",
    "input_sequences = np.array(pad_sequences(\n",
    "\tinput_sequences, maxlen=max_sequence_len, padding='pre'))\n",
    "X, y = input_sequences[:, :-1], input_sequences[:, -1]"
   ]
  },
  {
   "cell_type": "code",
   "execution_count": 10,
   "id": "b6177c8a",
   "metadata": {},
   "outputs": [],
   "source": [
    "y = tf.keras.utils.to_categorical(y, num_classes=total_words)\n",
    "\n",
    "\n",
    "model = Sequential()\n",
    "model.add(Embedding(total_words, 10,\n",
    "\t\t\t\t\tinput_length=max_sequence_len-1))\n",
    "model.add(LSTM(128))\n",
    "model.add(Dense(total_words, activation='softmax'))\n",
    "model.compile(loss='categorical_crossentropy',\n",
    "\t\t\toptimizer='adam', metrics=['accuracy'])\n"
   ]
  },
  {
   "cell_type": "code",
   "execution_count": 12,
   "id": "9ab98b0c",
   "metadata": {},
   "outputs": [
    {
     "name": "stdout",
     "output_type": "stream",
     "text": [
      "Epoch 1/10\n",
      "51/51 [==============================] - 1s 24ms/step - loss: 4.0821 - accuracy: 0.1505\n",
      "Epoch 2/10\n",
      "51/51 [==============================] - 1s 23ms/step - loss: 3.9785 - accuracy: 0.1634\n",
      "Epoch 3/10\n",
      "51/51 [==============================] - 1s 22ms/step - loss: 3.8775 - accuracy: 0.1701\n",
      "Epoch 4/10\n",
      "51/51 [==============================] - 1s 22ms/step - loss: 3.7780 - accuracy: 0.1800\n",
      "Epoch 5/10\n",
      "51/51 [==============================] - 1s 22ms/step - loss: 3.6825 - accuracy: 0.1972\n",
      "Epoch 6/10\n",
      "51/51 [==============================] - 1s 21ms/step - loss: 3.5935 - accuracy: 0.2076\n",
      "Epoch 7/10\n",
      "51/51 [==============================] - 1s 21ms/step - loss: 3.5004 - accuracy: 0.2156\n",
      "Epoch 8/10\n",
      "51/51 [==============================] - 1s 21ms/step - loss: 3.4084 - accuracy: 0.2340\n",
      "Epoch 9/10\n",
      "51/51 [==============================] - 1s 21ms/step - loss: 3.3185 - accuracy: 0.2506\n",
      "Epoch 10/10\n",
      "51/51 [==============================] - 1s 21ms/step - loss: 3.2285 - accuracy: 0.2801\n"
     ]
    },
    {
     "data": {
      "text/plain": [
       "<keras.callbacks.History at 0x1867de09630>"
      ]
     },
     "execution_count": 12,
     "metadata": {},
     "output_type": "execute_result"
    }
   ],
   "source": [
    "model.fit(X, y, epochs=10, verbose=1)"
   ]
  },
  {
   "cell_type": "code",
   "execution_count": 13,
   "id": "6f9c9ede",
   "metadata": {},
   "outputs": [],
   "source": [
    "seed_text = \"Pizza have different \"\n",
    "next_words = 5\n"
   ]
  },
  {
   "cell_type": "code",
   "execution_count": 14,
   "id": "30955bd8",
   "metadata": {},
   "outputs": [
    {
     "name": "stdout",
     "output_type": "stream",
     "text": [
      "1/1 [==============================] - 0s 466ms/step\n",
      "1/1 [==============================] - 0s 24ms/step\n",
      "1/1 [==============================] - 0s 28ms/step\n",
      "1/1 [==============================] - 0s 28ms/step\n",
      "1/1 [==============================] - 0s 33ms/step\n"
     ]
    }
   ],
   "source": [
    "for _ in range(next_words):\n",
    "\ttoken_list = tokenizer.texts_to_sequences([seed_text])[0]\n",
    "\ttoken_list = pad_sequences(\n",
    "\t\t[token_list], maxlen=max_sequence_len-1, padding='pre')\n",
    "\tpredicted_probs = model.predict(token_list)\n",
    "\tpredicted_word = tokenizer.index_word[np.argmax(predicted_probs)]\n",
    "\tseed_text += \" \" + predicted_word"
   ]
  },
  {
   "cell_type": "code",
   "execution_count": 15,
   "id": "78fedcef",
   "metadata": {},
   "outputs": [
    {
     "name": "stdout",
     "output_type": "stream",
     "text": [
      "Next predicted words: Pizza have different  become a symbol of pizza\n"
     ]
    }
   ],
   "source": [
    "print(\"Next predicted words:\", seed_text)"
   ]
  },
  {
   "cell_type": "code",
   "execution_count": null,
   "id": "f2161d7e",
   "metadata": {},
   "outputs": [],
   "source": []
  }
 ],
 "metadata": {
  "kernelspec": {
   "display_name": "Python 3 (ipykernel)",
   "language": "python",
   "name": "python3"
  },
  "language_info": {
   "codemirror_mode": {
    "name": "ipython",
    "version": 3
   },
   "file_extension": ".py",
   "mimetype": "text/x-python",
   "name": "python",
   "nbconvert_exporter": "python",
   "pygments_lexer": "ipython3",
   "version": "3.10.9"
  }
 },
 "nbformat": 4,
 "nbformat_minor": 5
}
